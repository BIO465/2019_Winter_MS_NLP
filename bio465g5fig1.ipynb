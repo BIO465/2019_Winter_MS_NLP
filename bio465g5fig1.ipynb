{
 "cells": [
  {
   "cell_type": "code",
   "execution_count": null,
   "metadata": {},
   "outputs": [],
   "source": [
    "# Load Libraries\n",
    "library(\"tidyverse\")"
   ]
  },
  {
   "cell_type": "code",
   "execution_count": null,
   "metadata": {},
   "outputs": [],
   "source": [
    "# Load csv with patient data ---------------\n",
    "# Data has two columns:\n",
    "# patient_id | number_records\n",
    "patient_data <- read_csv(\"count_dict.csv\")"
   ]
  },
  {
   "cell_type": "markdown",
   "metadata": {},
   "source": [
    "To better display the data, we decided to bin the patients with over 1000 records to their name. \\"
   ]
  },
  {
   "cell_type": "code",
   "execution_count": null,
   "metadata": {},
   "outputs": [],
   "source": [
    "# Bin all patients with notes longer than xxx\n",
    "bin_max = 1000\n",
    "patient_data$number_records <- sapply(patient_data$number_records, function(i){\n",
    "  if(i > bin_max){\n",
    "    return(bin_max)\n",
    "  }\n",
    "  else\n",
    "  {\n",
    "    return(i)\n",
    "  }\n",
    "})"
   ]
  },
  {
   "cell_type": "markdown",
   "metadata": {},
   "source": [
    "### Graph Explanation:\n",
    "We had EHR access for 5777 patients.\\\n",
    "The mean number of records per patient (red dashed line) was 102.5 records.\\"
   ]
  },
  {
   "cell_type": "code",
   "execution_count": 2,
   "metadata": {},
   "outputs": [
    {
     "ename": "ERROR",
     "evalue": "Error: 'count_dict.csv' does not exist in current working directory ('/home/jovyan').\n",
     "output_type": "error",
     "traceback": [
      "Error: 'count_dict.csv' does not exist in current working directory ('/home/jovyan').\nTraceback:\n",
      "1. read_csv(\"count_dict.csv\")",
      "2. read_delimited(file, tokenizer, col_names = col_names, col_types = col_types, \n .     locale = locale, skip = skip, comment = comment, n_max = n_max, \n .     guess_max = guess_max, progress = progress)",
      "3. standardise_path(file)",
      "4. check_path(path)",
      "5. stop(\"'\", path, \"' does not exist\", if (!is_absolute_path(path)) paste0(\" in current working directory ('\", \n .     getwd(), \"')\"), \".\", call. = FALSE)"
     ]
    }
   ],
   "source": [
    "# Plot the data:\n",
    "ggplot(data = patient_data) +\n",
    "  geom_histogram(aes(x = number_records), binwidth = 50, color = \"black\", fill = \"#D1D1D1\") +\n",
    "  geom_vline(xintercept = mean(patient_data$number_records), color = \"red\", linetype = 2, lwd = .8) +\n",
    "  xlab(\"Number of Records\") + \n",
    "  ylab(\"Number of Patients (n = 5777)\") +\n",
    "  ggtitle(\"Distribution Record Notes per Patient\") +\n",
    "  theme_bw() +\n",
    "  theme(plot.title = element_text(hjust = 0.5)) +\n",
    "  theme(axis.line = element_line(colour = \"black\"),\n",
    "        panel.grid.major = element_blank(),\n",
    "        panel.grid.minor = element_blank(),\n",
    "        panel.border = element_blank(),\n",
    "        panel.background = element_blank())"
   ]
  }
 ],
 "metadata": {
  "kernelspec": {
   "display_name": "R",
   "language": "R",
   "name": "ir"
  },
  "language_info": {
   "codemirror_mode": "r",
   "file_extension": ".r",
   "mimetype": "text/x-r-source",
   "name": "R",
   "pygments_lexer": "r",
   "version": "3.4.4"
  }
 },
 "nbformat": 4,
 "nbformat_minor": 2
}
