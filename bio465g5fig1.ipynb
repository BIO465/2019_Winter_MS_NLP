{
 "cells": [
  {
   "cell_type": "code",
   "execution_count": null,
   "metadata": {},
   "outputs": [],
   "source": [
    "# Load Libraries\n",
    "library(\"ggplot2\") \n",
    "library(\"readr\")"
   ]
  },
  {
   "cell_type": "code",
   "execution_count": null,
   "metadata": {},
   "outputs": [],
   "source": [
    "# Load csv with patient data ---------------\n",
    "# Data has two columns:\n",
    "# patient_id | number_records\n",
    "patient_data <- read_csv(\"count_dict.csv\")"
   ]
  },
  {
   "cell_type": "markdown",
   "metadata": {},
   "source": [
    "To better display the data, we decided to bin the patients with over 1000 records."
   ]
  },
  {
   "cell_type": "code",
   "execution_count": null,
   "metadata": {},
   "outputs": [],
   "source": [
    "# Bin all patients with more than bin_max notes.\n",
    "bin_max = 1000\n",
    "patient_data$number_records <- sapply(patient_data$number_records, function(i){\n",
    "  if(i > bin_max){\n",
    "    return(bin_max)\n",
    "  }\n",
    "  else\n",
    "  {\n",
    "    return(i)\n",
    "  }\n",
    "})"
   ]
  },
  {
   "cell_type": "code",
   "execution_count": null,
   "metadata": {},
   "outputs": [],
   "source": [
    "# Plot the data:\n",
    "ggplot(data = patient_data) +\n",
    "  geom_histogram(aes(x = number_records), binwidth = 50, color = \"black\", fill = \"#D1D1D1\") +\n",
    "  geom_vline(xintercept = mean(patient_data$number_records), color = \"red\", linetype = 2, lwd = .8) +\n",
    "  xlab(\"Number of Records\") + \n",
    "  ylab(\"Number of Patients (n = 5777)\") +\n",
    "  ggtitle(\"Distribution of Records per Patient\") +\n",
    "  theme_bw() +\n",
    "  theme(plot.title = element_text(hjust = 0.5)) +\n",
    "  theme(axis.line = element_line(colour = \"black\"),\n",
    "        panel.grid.major = element_blank(),\n",
    "        panel.grid.minor = element_blank(),\n",
    "        panel.border = element_blank(),\n",
    "        panel.background = element_blank())"
   ]
  },
  {
   "cell_type": "markdown",
   "metadata": {},
   "source": [
    "Figure 1. Distribution of number of notes per patient (n = 5,777 patients). Red dashed line indicates mean number of records per patient (102.5 records). Patients with more than 1,000 notes have been binned together."
   ]
  }
 ],
 "metadata": {
  "kernelspec": {
   "display_name": "R",
   "language": "R",
   "name": "ir"
  },
  "language_info": {
   "codemirror_mode": "r",
   "file_extension": ".r",
   "mimetype": "text/x-r-source",
   "name": "R",
   "pygments_lexer": "r",
   "version": "3.4.4"
  }
 },
 "nbformat": 4,
 "nbformat_minor": 2
}
